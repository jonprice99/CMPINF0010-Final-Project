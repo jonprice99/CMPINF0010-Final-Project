{
 "cells": [
  {
   "cell_type": "markdown",
   "id": "abstract-alliance",
   "metadata": {},
   "source": [
    "## **Final Project** ##"
   ]
  },
  {
   "cell_type": "code",
   "execution_count": 3,
   "id": "visible-utilization",
   "metadata": {},
   "outputs": [],
   "source": [
    "import pandas as pd\n",
    "import numpy as np\n",
    "import math as math\n",
    "import sys\n",
    "import matplotlib.pyplot as plt"
   ]
  },
  {
   "cell_type": "markdown",
   "id": "federal-mystery",
   "metadata": {},
   "source": [
    "### **Police Incident** ### \n",
    "\n",
    "When anyone looking into a prospective neighborhood, look at the crime rate. Even Though crimes are frequently intense in big cities, it doesn’t imply the neighborhood is certainly safe even if it’s in a small town. \n",
    "Crime statistics are usually good indicators of neighborhood safety and safety is one of the essential indicators of a best neighborhood. But it’s not always easy to spot crime. Your quality of life can depend on your neighborhood."
   ]
  },
  {
   "cell_type": "code",
   "execution_count": 4,
   "id": "compound-diploma",
   "metadata": {},
   "outputs": [],
   "source": [
    "police_incident = pd.read_csv(\"Police_Incident_ Blotter.csv\") "
   ]
  },
  {
   "cell_type": "code",
   "execution_count": 5,
   "id": "cultural-strengthening",
   "metadata": {},
   "outputs": [
    {
     "name": "stdout",
     "output_type": "stream",
     "text": [
      "['Brookline' 'North Oakland' 'Sheraden' 'Bloomfield'\n",
      " 'Central Business District' 'East Liberty' 'Overbrook' 'Perry South'\n",
      " 'Carrick' 'Larimer' 'East Hills' 'Lincoln-Lemington-Belmar'\n",
      " 'South Side Flats' 'Shadyside' 'Central North Side' 'Arlington'\n",
      " 'Stanton Heights' 'Mount Washington' 'Greenfield' 'Crafton Heights'\n",
      " 'Homewood South' 'Bluff' 'East Allegheny' 'Allentown'\n",
      " 'Marshall-Shadeland' 'Central Lawrenceville' 'North Shore' 'Friendship'\n",
      " 'New Homestead' 'South Side Slopes' 'Northview Heights'\n",
      " 'Crawford-Roberts' 'Windgap' 'Beechview' 'Brighton Heights' 'Knoxville'\n",
      " 'Outside State' 'Lincoln Place' 'Middle Hill' 'Homewood West'\n",
      " 'Central Oakland' 'Manchester' 'Outside City' 'Point Breeze'\n",
      " 'Regent Square' 'Duquesne Heights' 'Perry North' 'Troy Hill'\n",
      " 'Strip District' 'Highland Park' 'Upper Hill' 'Allegheny Center'\n",
      " 'Banksville' 'Hazelwood' 'Polish Hill' 'Chateau' 'Homewood North'\n",
      " 'Garfield' 'West Oakland' 'Glen Hazel' 'Bon Air' 'Upper Lawrenceville'\n",
      " 'Spring Hill-City View' 'Bedford Dwellings' nan 'Morningside'\n",
      " 'Allegheny West' 'Squirrel Hill North' 'Terrace Village' 'Elliott'\n",
      " 'West End' 'South Oakland' 'Squirrel Hill South' 'South Shore'\n",
      " 'East Carnegie' 'Esplen' 'Spring Garden' 'Point Breeze North' 'Hays'\n",
      " 'Lower Lawrenceville' 'St. Clair' 'Ridgemont' 'Beltzhoover' 'Summer Hill'\n",
      " 'Swisshelm Park' 'California-Kirkbride' 'Fineview' 'Fairywood' 'Oakwood'\n",
      " 'Outside County' 'Westwood' 'Mount Oliver' 'Chartiers City'\n",
      " 'Arlington Heights' 'Mt. Oliver Boro']\n"
     ]
    }
   ],
   "source": [
    "\n",
    "## List all neighborhoods\n",
    "neighbourhoods = police_incident['INCIDENTNEIGHBORHOOD'].unique()\n",
    "print(neighbourhoods)"
   ]
  },
  {
   "cell_type": "code",
   "execution_count": 22,
   "id": "olympic-trace",
   "metadata": {},
   "outputs": [
    {
     "data": {
      "text/html": [
       "<div>\n",
       "<style scoped>\n",
       "    .dataframe tbody tr th:only-of-type {\n",
       "        vertical-align: middle;\n",
       "    }\n",
       "\n",
       "    .dataframe tbody tr th {\n",
       "        vertical-align: top;\n",
       "    }\n",
       "\n",
       "    .dataframe thead th {\n",
       "        text-align: right;\n",
       "    }\n",
       "</style>\n",
       "<table border=\"1\" class=\"dataframe\">\n",
       "  <thead>\n",
       "    <tr style=\"text-align: right;\">\n",
       "      <th></th>\n",
       "      <th>PK</th>\n",
       "      <th>CCR</th>\n",
       "      <th>HIERARCHY</th>\n",
       "      <th>INCIDENTTIME</th>\n",
       "      <th>INCIDENTLOCATION</th>\n",
       "      <th>CLEAREDFLAG</th>\n",
       "      <th>INCIDENTNEIGHBORHOOD</th>\n",
       "      <th>INCIDENTZONE</th>\n",
       "      <th>INCIDENTHIERARCHYDESC</th>\n",
       "      <th>OFFENSES</th>\n",
       "      <th>INCIDENTTRACT</th>\n",
       "      <th>COUNCIL_DISTRICT</th>\n",
       "      <th>PUBLIC_WORKS_DIVISION</th>\n",
       "      <th>X</th>\n",
       "      <th>Y</th>\n",
       "    </tr>\n",
       "  </thead>\n",
       "  <tbody>\n",
       "    <tr>\n",
       "      <th>0</th>\n",
       "      <td>247582194</td>\n",
       "      <td>21045028</td>\n",
       "      <td>0</td>\n",
       "      <td>2021-03-17T14:57:00</td>\n",
       "      <td>Brookline Blvd &amp; Witt St Pittsburgh, PA 15226</td>\n",
       "      <td>Y</td>\n",
       "      <td>Brookline</td>\n",
       "      <td>6</td>\n",
       "      <td>99</td>\n",
       "      <td>1501 Drivers Required to be Licensed. / 1786 R...</td>\n",
       "      <td>3206.0</td>\n",
       "      <td>4.0</td>\n",
       "      <td>5.0</td>\n",
       "      <td>-80.005904</td>\n",
       "      <td>40.392418</td>\n",
       "    </tr>\n",
       "    <tr>\n",
       "      <th>1</th>\n",
       "      <td>247583239</td>\n",
       "      <td>21045077</td>\n",
       "      <td>27</td>\n",
       "      <td>2021-03-17T16:10:00</td>\n",
       "      <td>Forbes Ave &amp; S Dithridge St Pittsburgh, PA 15213</td>\n",
       "      <td>N</td>\n",
       "      <td>North Oakland</td>\n",
       "      <td>4</td>\n",
       "      <td>HIT AND RUN</td>\n",
       "      <td>3745 Accidents Involving Damage to Unattended ...</td>\n",
       "      <td>404.0</td>\n",
       "      <td>8.0</td>\n",
       "      <td>3.0</td>\n",
       "      <td>-79.950226</td>\n",
       "      <td>40.444052</td>\n",
       "    </tr>\n",
       "    <tr>\n",
       "      <th>2</th>\n",
       "      <td>247595750</td>\n",
       "      <td>21045154</td>\n",
       "      <td>10</td>\n",
       "      <td>2021-03-17T17:56:00</td>\n",
       "      <td>3100 Block Huxley St Pittsburgh, PA 15204</td>\n",
       "      <td>Y</td>\n",
       "      <td>Sheraden</td>\n",
       "      <td>6</td>\n",
       "      <td>SIMPLE ASSAULT</td>\n",
       "      <td>2701 Simple Assault.</td>\n",
       "      <td>2022.0</td>\n",
       "      <td>2.0</td>\n",
       "      <td>5.0</td>\n",
       "      <td>-80.062087</td>\n",
       "      <td>40.453472</td>\n",
       "    </tr>\n",
       "  </tbody>\n",
       "</table>\n",
       "</div>"
      ],
      "text/plain": [
       "          PK       CCR  HIERARCHY         INCIDENTTIME  \\\n",
       "0  247582194  21045028          0  2021-03-17T14:57:00   \n",
       "1  247583239  21045077         27  2021-03-17T16:10:00   \n",
       "2  247595750  21045154         10  2021-03-17T17:56:00   \n",
       "\n",
       "                                   INCIDENTLOCATION CLEAREDFLAG  \\\n",
       "0     Brookline Blvd & Witt St Pittsburgh, PA 15226           Y   \n",
       "1  Forbes Ave & S Dithridge St Pittsburgh, PA 15213           N   \n",
       "2         3100 Block Huxley St Pittsburgh, PA 15204           Y   \n",
       "\n",
       "  INCIDENTNEIGHBORHOOD INCIDENTZONE INCIDENTHIERARCHYDESC  \\\n",
       "0            Brookline            6                    99   \n",
       "1        North Oakland            4           HIT AND RUN   \n",
       "2             Sheraden            6        SIMPLE ASSAULT   \n",
       "\n",
       "                                            OFFENSES  INCIDENTTRACT  \\\n",
       "0  1501 Drivers Required to be Licensed. / 1786 R...         3206.0   \n",
       "1  3745 Accidents Involving Damage to Unattended ...          404.0   \n",
       "2                               2701 Simple Assault.         2022.0   \n",
       "\n",
       "   COUNCIL_DISTRICT  PUBLIC_WORKS_DIVISION          X          Y  \n",
       "0               4.0                    5.0 -80.005904  40.392418  \n",
       "1               8.0                    3.0 -79.950226  40.444052  \n",
       "2               2.0                    5.0 -80.062087  40.453472  "
      ]
     },
     "execution_count": 22,
     "metadata": {},
     "output_type": "execute_result"
    }
   ],
   "source": [
    "police_incident.head(3)"
   ]
  },
  {
   "cell_type": "code",
   "execution_count": 6,
   "id": "global-audit",
   "metadata": {},
   "outputs": [
    {
     "data": {
      "text/plain": [
       "95"
      ]
     },
     "execution_count": 6,
     "metadata": {},
     "output_type": "execute_result"
    }
   ],
   "source": [
    "len(police_incident['INCIDENTNEIGHBORHOOD'].unique())"
   ]
  },
  {
   "cell_type": "markdown",
   "id": "continuous-december",
   "metadata": {},
   "source": [
    "**There are anout 95 incident types reported in the documents.**"
   ]
  },
  {
   "cell_type": "code",
   "execution_count": 29,
   "id": "reserved-booking",
   "metadata": {},
   "outputs": [
    {
     "name": "stdout",
     "output_type": "stream",
     "text": [
      "95\n",
      "['99' 'HIT AND RUN' 'SIMPLE ASSAULT' 'NON-VIOLENT DOMESTIC'\n",
      " 'CRIMINAL TRESPASS' 'AIDED CASE'\n",
      " 'DUI - HIGHEST RATE OF ALCOHOL - BAC >= .16%' 'FOUND PROPERTY'\n",
      " 'THEFT FROM AUTO' 'GAMBLING INVESTIGATION' 'THEFT' 'STOLEN PROPERTY'\n",
      " 'HARRASSMENT/THREAT/ATTEMPT/PHY' 'DOG BITE' 'CRIM MISCHIEF'\n",
      " 'THEFT BY DECEPTION' 'IDENTITY THEFT' 'RETAIL THEFT (SHOPLIFTING)'\n",
      " 'BURGLARY' 'TERRORISTIC THREATS' 'DISORDERLY CONDUCT'\n",
      " 'MISCELLANEOUS FIRE OTHER INVEST CONTINUED' 'PUBLIC DRUNKENESS'\n",
      " 'AGG-ASSAULT' 'FIRES (SELF STARTING)' 'AGRICULTURAL VANDALISM'\n",
      " 'STOLEN PROPERTY - OTHER' 'CRIM MISCHIEF (GRAFFITI)' 'HARRASSMENT'\n",
      " 'DEAD ON ARRIVAL (DOA)' 'RUNAWAYS - JUVENILE'\n",
      " 'BENCH WARRANT ARREST - NO TIE' 'DUI - GENERAL IMPAIRMENT'\n",
      " 'MENTAL 201/302' 'ROBBERY OF MOTOR VEHICLE' 'RETSIL THEFT (SHOPLIFTING)'\n",
      " 'ROBBERY' 'RECEIVING STOLEN PROPERTY' 'FOUND DRUGS' 'DRUG INVESTIGATION'\n",
      " 'UNAUTHORIZED USE VEHICLE' 'MISSING PERSONS (18+)' 'ACCIDENTAL FIRE'\n",
      " 'CREDIT CARDS' 'CRIMINAL MISCHIEF' 'MISCELLANEOUS INVESTIGATION'\n",
      " 'INDECENT ASSAULT - MENTAL DISABILITY' 'IMPERSONATING A PUBLIC SERVANT'\n",
      " 'FORGERY' 'DANGEROUS BURNING' 'CONCEALING DEATH BASTARD CHILD'\n",
      " 'FALSE ALARMS AGENCIES PUB SAF' 'RECKLESSLY ENDANGER ANOTH PER'\n",
      " 'MISCELLANEOUS FIRE VEH INVEST CONTINUED' 'SEXUAL ASSAULT'\n",
      " 'RESIST ARREST/OTHER LAW ENFORC' 'DRIVING UNDER INFLUENCE' 'SUICIDE'\n",
      " 'LOST PROPERTY' 'INJURY/TAMP/FIRE APP-HYD-ETC'\n",
      " 'FIREARMS NOT TO BE CARRIED WO LICENSE' 'OBST ADM LAW /OTHR GOVT FUNCTN'\n",
      " 'INCEST' 'PUR/CON/POS/TRAN-INTOX BEVERAG' 'RAPE' 'CORRUPTION OF MINORS'\n",
      " 'PROHIBITED OFFENSIVE WEAPONS' 'RETALIATION FOR PAST OFF ACTION'\n",
      " 'LOCATED RUNAWAY - OUTSIDE CITY' 'LOITERING PROWLING AT NIGHT'\n",
      " 'MEGANS LAW VIOLATION' 'FLIGHT TO AVOID APPREHENSION/TRIAL/PUNISHMEN'\n",
      " 'INDECENT EXPOSURE' 'DUI - DRUG - IMPAIRED ABILITY'\n",
      " 'ENDANGER WELFARE OF CHILDREN' 'INTIMIDATION  WITNESS/VICTIMS'\n",
      " 'CONTRABAND' 'TAMPER WITH/FAB PHYS EVIDENCE'\n",
      " 'DUI - CONTROLLED SUBSTANCE - SCHEDULE I' 'INDUSTRIAL ACCIDENT'\n",
      " 'THEFT OF SERVICES' 'STATUATORY SEXUAL ASSAULT' 'CRIMINAL HOMICIDE'\n",
      " 'FRAUD DEST/REM/CONC REC INSTRU' 'FALSE BURGLAR ALARM'\n",
      " 'PROSTITUTION INVESTIGATION' 'INDECENT ASSAULT OF PERSON UNDER 13'\n",
      " 'UNLAWFUL RESTRAINT']\n"
     ]
    }
   ],
   "source": [
    "incident_types = police_incident['INCIDENTHIERARCHYDESC'].unique()\n",
    "\n",
    "print(len(police_incident['INCIDENTNEIGHBORHOOD'].unique()))\n",
    "\n",
    "print(incident_types)"
   ]
  },
  {
   "cell_type": "markdown",
   "id": "chubby-mambo",
   "metadata": {},
   "source": []
  },
  {
   "cell_type": "markdown",
   "id": "false-worship",
   "metadata": {},
   "source": [
    "*Now, there are some informations that are not going to be usefull, so let's narrow our data*"
   ]
  },
  {
   "cell_type": "code",
   "execution_count": 34,
   "id": "portuguese-objective",
   "metadata": {},
   "outputs": [],
   "source": [
    "new_df = police_incident[police_incident.columns.difference(['PK', 'CCR' , 'X' , 'Y','CLEAREDFLAG','INCIDENTZONE', 'INCIDENTLOCATION', 'COUNCIL_DISTRICT','PUBLIC_WORKS_DIVISION'])]"
   ]
  },
  {
   "cell_type": "code",
   "execution_count": 35,
   "id": "incoming-secondary",
   "metadata": {},
   "outputs": [
    {
     "data": {
      "text/html": [
       "<div>\n",
       "<style scoped>\n",
       "    .dataframe tbody tr th:only-of-type {\n",
       "        vertical-align: middle;\n",
       "    }\n",
       "\n",
       "    .dataframe tbody tr th {\n",
       "        vertical-align: top;\n",
       "    }\n",
       "\n",
       "    .dataframe thead th {\n",
       "        text-align: right;\n",
       "    }\n",
       "</style>\n",
       "<table border=\"1\" class=\"dataframe\">\n",
       "  <thead>\n",
       "    <tr style=\"text-align: right;\">\n",
       "      <th></th>\n",
       "      <th>HIERARCHY</th>\n",
       "      <th>INCIDENTHIERARCHYDESC</th>\n",
       "      <th>INCIDENTTIME</th>\n",
       "      <th>INCIDENTTRACT</th>\n",
       "      <th>OFFENSES</th>\n",
       "    </tr>\n",
       "    <tr>\n",
       "      <th>INCIDENTNEIGHBORHOOD</th>\n",
       "      <th></th>\n",
       "      <th></th>\n",
       "      <th></th>\n",
       "      <th></th>\n",
       "      <th></th>\n",
       "    </tr>\n",
       "  </thead>\n",
       "  <tbody>\n",
       "    <tr>\n",
       "      <th>Allegheny Center</th>\n",
       "      <td>22</td>\n",
       "      <td>22</td>\n",
       "      <td>22</td>\n",
       "      <td>22</td>\n",
       "      <td>22</td>\n",
       "    </tr>\n",
       "    <tr>\n",
       "      <th>Allegheny West</th>\n",
       "      <td>2</td>\n",
       "      <td>2</td>\n",
       "      <td>2</td>\n",
       "      <td>2</td>\n",
       "      <td>2</td>\n",
       "    </tr>\n",
       "    <tr>\n",
       "      <th>Allentown</th>\n",
       "      <td>71</td>\n",
       "      <td>71</td>\n",
       "      <td>71</td>\n",
       "      <td>71</td>\n",
       "      <td>71</td>\n",
       "    </tr>\n",
       "    <tr>\n",
       "      <th>Arlington</th>\n",
       "      <td>30</td>\n",
       "      <td>30</td>\n",
       "      <td>30</td>\n",
       "      <td>30</td>\n",
       "      <td>30</td>\n",
       "    </tr>\n",
       "    <tr>\n",
       "      <th>Arlington Heights</th>\n",
       "      <td>3</td>\n",
       "      <td>3</td>\n",
       "      <td>3</td>\n",
       "      <td>3</td>\n",
       "      <td>3</td>\n",
       "    </tr>\n",
       "  </tbody>\n",
       "</table>\n",
       "</div>"
      ],
      "text/plain": [
       "                      HIERARCHY  INCIDENTHIERARCHYDESC  INCIDENTTIME  \\\n",
       "INCIDENTNEIGHBORHOOD                                                   \n",
       "Allegheny Center             22                     22            22   \n",
       "Allegheny West                2                      2             2   \n",
       "Allentown                    71                     71            71   \n",
       "Arlington                    30                     30            30   \n",
       "Arlington Heights             3                      3             3   \n",
       "\n",
       "                      INCIDENTTRACT  OFFENSES  \n",
       "INCIDENTNEIGHBORHOOD                           \n",
       "Allegheny Center                 22        22  \n",
       "Allegheny West                    2         2  \n",
       "Allentown                        71        71  \n",
       "Arlington                        30        30  \n",
       "Arlington Heights                 3         3  "
      ]
     },
     "execution_count": 35,
     "metadata": {},
     "output_type": "execute_result"
    }
   ],
   "source": [
    "new_df.groupby(\"INCIDENTNEIGHBORHOOD\").count().head(5)"
   ]
  },
  {
   "cell_type": "code",
   "execution_count": 26,
   "id": "cloudy-phase",
   "metadata": {},
   "outputs": [
    {
     "data": {
      "text/plain": [
       "INCIDENTNEIGHBORHOOD\n",
       "Troy Hill              22\n",
       "Upper Hill             13\n",
       "Upper Lawrenceville    16\n",
       "West End               13\n",
       "West Oakland           15\n",
       "Westwood                9\n",
       "Windgap                 7\n",
       "Name: OFFENSES, dtype: int64"
      ]
     },
     "execution_count": 26,
     "metadata": {},
     "output_type": "execute_result"
    }
   ],
   "source": [
    "new_df.groupby(\"INCIDENTNEIGHBORHOOD\").count().loc[:,\"OFFENSES\"][87:]"
   ]
  },
  {
   "cell_type": "code",
   "execution_count": 15,
   "id": "solid-feedback",
   "metadata": {},
   "outputs": [],
   "source": [
    "new_df = new_df.sort_values(by=['INCIDENTNEIGHBORHOOD']).dropna()"
   ]
  },
  {
   "cell_type": "markdown",
   "id": "sexual-custom",
   "metadata": {},
   "source": [
    "**let us sort the data by NEIGHBORHOOD and drop rows or columns which contain missing values**"
   ]
  },
  {
   "cell_type": "code",
   "execution_count": 16,
   "id": "verbal-generic",
   "metadata": {},
   "outputs": [],
   "source": [
    "INCIDENTNEIGHBORHOOD_count= new_df['INCIDENTNEIGHBORHOOD'].value_counts(ascending=True)\n",
    "INCIDENTNEIGHBORHOOD_count = INCIDENTNEIGHBORHOOD_count[:30]"
   ]
  },
  {
   "cell_type": "code",
   "execution_count": 17,
   "id": "metric-amateur",
   "metadata": {},
   "outputs": [
    {
     "name": "stdout",
     "output_type": "stream",
     "text": [
      "Mt. Oliver Boro       1\n",
      "Mount Oliver          2\n",
      "Outside County        2\n",
      "Summer Hill           2\n",
      "Allegheny West        2\n",
      "Arlington Heights     3\n",
      "Fairywood             3\n",
      "Hays                  3\n",
      "St. Clair             3\n",
      "Outside State         4\n",
      "Regent Square         4\n",
      "Ridgemont             4\n",
      "Glen Hazel            5\n",
      "Chartiers City        5\n",
      "Swisshelm Park        5\n",
      "Esplen                5\n",
      "East Carnegie         6\n",
      "Windgap               7\n",
      "Oakwood               9\n",
      "Westwood              9\n",
      "Friendship           10\n",
      "Spring Garden        11\n",
      "Terrace Village      11\n",
      "South Shore          12\n",
      "Polish Hill          12\n",
      "Bon Air              12\n",
      "West End             13\n",
      "Upper Hill           13\n",
      "Outside City         14\n",
      "Duquesne Heights     14\n",
      "Name: INCIDENTNEIGHBORHOOD, dtype: int64\n"
     ]
    }
   ],
   "source": [
    "print(INCIDENTNEIGHBORHOOD_count)"
   ]
  },
  {
   "cell_type": "markdown",
   "id": "distributed-pierce",
   "metadata": {},
   "source": [
    "**The safest NEIGHBORHOOD is the one with the lowest crime incident.**"
   ]
  },
  {
   "cell_type": "markdown",
   "id": "forced-trial",
   "metadata": {},
   "source": [
    "**Let us graph the the crime incident.**"
   ]
  },
  {
   "cell_type": "code",
   "execution_count": 18,
   "id": "biological-warehouse",
   "metadata": {},
   "outputs": [
    {
     "data": {
      "text/plain": [
       "<AxesSubplot:>"
      ]
     },
     "execution_count": 18,
     "metadata": {},
     "output_type": "execute_result"
    },
    {
     "data": {
      "image/png": "[encoded data removed]",
      "text/plain": [
       "<Figure size 432x288 with 1 Axes>"
      ]
     },
     "metadata": {
      "needs_background": "light"
     },
     "output_type": "display_data"
    }
   ],
   "source": [
    "pd.Series(INCIDENTNEIGHBORHOOD_count).plot.bar()"
   ]
  },
  {
   "cell_type": "markdown",
   "id": "exclusive-canal",
   "metadata": {},
   "source": [
    "**The safest NEIGHBORHOOD is the one with the lowest crime incident and it is Mt. Oliver Boro**"
   ]
  },
  {
   "cell_type": "code",
   "execution_count": null,
   "id": "systematic-identifier",
   "metadata": {},
   "outputs": [],
   "source": []
  }
 ],
 "metadata": {
  "kernelspec": {
   "display_name": "Python 3",
   "language": "python",
   "name": "python3"
  },
  "language_info": {
   "codemirror_mode": {
    "name": "ipython",
    "version": 3
   },
   "file_extension": ".py",
   "mimetype": "text/x-python",
   "name": "python",
   "nbconvert_exporter": "python",
   "pygments_lexer": "ipython3",
   "version": "3.8.5"
  }
 },
 "nbformat": 4,
 "nbformat_minor": 5
}
